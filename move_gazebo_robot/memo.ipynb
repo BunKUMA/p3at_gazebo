{
 "cells": [
  {
   "cell_type": "code",
   "execution_count": 1,
   "metadata": {},
   "outputs": [
    {
     "data": {
      "text/plain": [
       "1.0"
      ]
     },
     "execution_count": 1,
     "metadata": {},
     "output_type": "execute_result"
    }
   ],
   "source": [
    "import numpy as np\n",
    "x = 11\n",
    "y = 6\n",
    "w = - (y-11) / np.sqrt((y-11)**2 + (x-11)**2)\n",
    "w"
   ]
  },
  {
   "cell_type": "code",
   "execution_count": 6,
   "metadata": {},
   "outputs": [],
   "source": [
    "import os\n",
    "import sys\n",
    "import time\n",
    "import math\n",
    "\n",
    "import numpy as np\n",
    "\n",
    "# 目标位置\n",
    "target_position = (11, 11)\n",
    "\n",
    "#距离目标的半径\n",
    "step = 0.5\n",
    "radius_array = np.arange(4,7,step)\n",
    "\n",
    "coordinate_robot = []\n",
    "for radius in radius_array:\n",
    "    for angle_degree in range(0,180,10):\n",
    "        angle_radians = math.radians(angle_degree)\n",
    "        \n",
    "        # 使用三角函数计算点的坐标\n",
    "        x = target_position[0] + radius * math.sin(angle_radians)\n",
    "        y = target_position[1] + radius * math.cos(angle_radians)\n",
    "        # 使用round函数保留一位小数\n",
    "        x = round(x, 1)\n",
    "        y = round(y, 1)\n",
    "        coordinate_robot.append([x,y])"
   ]
  },
  {
   "cell_type": "code",
   "execution_count": 8,
   "metadata": {},
   "outputs": [],
   "source": [
    "# 定义文件路径和结果列表\n",
    "file_paths = ['/path/to/file1.npy', '/path/to/file2.npy']  # 替换为你的文件路径列表\n",
    "results = [[1,5],[2,3]]  # 替换为你的结果列表\n",
    "\n",
    "# # 检查文件路径和结果列表的长度是否相同\n",
    "# if len(file_paths) != len(results):\n",
    "#     raise ValueError(\"文件路径列表和结果列表的长度不相等\")\n",
    "\n",
    "# 定义要写入的文本文件名\n",
    "output_file = 'output.txt'\n",
    "\n",
    "# 打开文本文件以写入模式\n",
    "with open(output_file, 'w') as file:\n",
    "    # 循环遍历文件路径和结果，并将它们以一行的形式写入文本文件\n",
    "    for file_path in file_paths:\n",
    "        file.write(file_path)\n",
    "    \n",
    "        # 使用列表推导式将嵌套列表 results 转换为字符串，并写入到文本文件\n",
    "        result_str = ' '.join(f\"{sublist}\" for sublist in results)\n",
    "        file.write(f\" {result_str}\\n\")\n"
   ]
  },
  {
   "cell_type": "code",
   "execution_count": 82,
   "metadata": {},
   "outputs": [],
   "source": [
    "import os\n",
    "import math\n",
    "import numpy as np\n",
    "import open3d as o3d\n",
    "\n",
    "folders_path = '/home/wen/workspace/predictions'\n",
    "file_name = 'predicte_point_12.0_16.9.npy'\n",
    "file_path = '/home/wen/workspace/predictions/'+ file_name\n",
    "pcd_path = '/home/wen/workspace/gazebo_lidar_data/point_12.0_16.9.npy'\n",
    "point_cloud_data = np.load(pcd_path)[:,:3]\n",
    "\n",
    "\n",
    "\n",
    "target_position = (11,11,0)\n",
    "x = target_position[0]\n",
    "y = target_position[1]\n",
    "z = target_position[2]  \n",
    "target_h = 1.445\n",
    "target_w = 1.879\n",
    "target_l = 4.963\n",
    "original_yaw_degrees = -90\n",
    "\n",
    "# for file_name in file_list:\n",
    "position_str = file_name[15:] #11.7_7.1\n",
    "robot_x = float(position_str[:4])\n",
    "robot_y = float(position_str[5:-4])\n",
    "\n",
    "x_position_robot = math.sqrt((x-robot_x)**2 + (y-robot_y)**2)\n",
    "y_position_robot = float(0)\n",
    "z_position_robot = float(0)\n",
    "\n",
    "theta = math.atan2(y-robot_y, x-robot_x)\n",
    "beta = np.pi - theta\n",
    " \n",
    "yaw = beta + np.pi/2\n",
    "\n",
    "corret_result = (x_position_robot, y_position_robot, z_position_robot, target_h, target_w, target_l, yaw)\n",
    "################\n",
    "# 创建一个numpy的点云"
   ]
  },
  {
   "cell_type": "code",
   "execution_count": 83,
   "metadata": {},
   "outputs": [
    {
     "data": {
      "text/plain": [
       "(6.451081230429961,\n",
       " (5.98414572015087, 0.0, 0.0, 1.445, 1.879, 4.963, 6.451081230429961),\n",
       " -1.7386922500452713)"
      ]
     },
     "execution_count": 83,
     "metadata": {},
     "output_type": "execute_result"
    }
   ],
   "source": [
    "corret_result"
   ]
  },
  {
   "cell_type": "code",
   "execution_count": 84,
   "metadata": {},
   "outputs": [],
   "source": [
    "\n",
    "# pcd = o3d.geometry.PointCloud()\n",
    "# pcd.points = o3d.utility.Vector3dVector(point_cloud_data)\n",
    "# # 填充点云数据（假设你有点云数据）\n",
    "\n",
    "# # 创建一个表示框的网格对象\n",
    "# x, y, z = corret_result[0],corret_result[1], corret_result[2]\n",
    "# h, w, l = corret_result[3],corret_result[4], corret_result[5]\n",
    "# rotation = corret_result[6]\n",
    "\n",
    "# # 计算框的顶点坐标\n",
    "# half_h, half_w, half_l = h / 2.0, w / 2.0, l / 2.0\n",
    "# vertices = [\n",
    "#     [-half_l, -half_w, -half_h],\n",
    "#     [half_l, -half_w, -half_h],\n",
    "#     [half_l, half_w, -half_h],\n",
    "#     [-half_l, half_w, -half_h],\n",
    "#     [-half_l, -half_w, half_h],\n",
    "#     [half_l, -half_w, half_h],\n",
    "#     [half_l, half_w, half_h],\n",
    "#     [-half_l, half_w, half_h]\n",
    "# ]\n",
    "\n",
    "# # 应用偏航角\n",
    "# R = np.array([[np.cos(rotation), -np.sin(rotation), 0.0],\n",
    "#               [np.sin(rotation), np.cos(rotation), 0.0],\n",
    "#               [0.0, 0.0, 1.0]])\n",
    "# vertices = [np.dot(R, np.array(vertex)) + np.array([x, y, z]) for vertex in vertices]\n",
    "\n",
    "# # 创建自定义的三角形网格\n",
    "# faces = [\n",
    "#     [0, 1, 2],\n",
    "#     [0, 2, 3],\n",
    "#     [0, 4, 5],\n",
    "#     [0, 5, 1],\n",
    "#     [1, 5, 6],\n",
    "#     [1, 6, 2],\n",
    "#     [2, 6, 7],\n",
    "#     [2, 7, 3],\n",
    "#     [3, 7, 4],\n",
    "#     [3, 4, 0],\n",
    "#     [4, 7, 6],\n",
    "#     [4, 6, 5]\n",
    "# ]\n",
    "\n",
    "# mesh = o3d.geometry.TriangleMesh()\n",
    "# mesh.vertices = o3d.utility.Vector3dVector(vertices)\n",
    "# mesh.triangles = o3d.utility.Vector3iVector(faces)\n",
    "\n",
    "# # 创建一个表示坐标系的网格对象\n",
    "# coord_frame = o3d.geometry.TriangleMesh.create_coordinate_frame(size=1.0, origin=[0, 0, 0])\n",
    "\n",
    "# # 创建一个场景并将点云、包围框和坐标系添加到场景中\n",
    "# scene = o3d.visualization.Visualizer()\n",
    "# scene.create_window()\n",
    "# scene.add_geometry(pcd)        # 添加点云\n",
    "# scene.add_geometry(mesh)       # 添加包围框\n",
    "# scene.add_geometry(coord_frame)  # 添加坐标系\n",
    "\n",
    "\n",
    "# # 设置视角\n",
    "# view_control = scene.get_view_control()\n",
    "# view_control.set_lookat([0, 0, 0])  # 设置视点\n",
    "# view_control.set_up([0, 0, 1])     # 设置视角上方的方向\n",
    "\n",
    "# # 显示场景\n",
    "# scene.run()\n",
    "# scene.destroy_window()\n",
    "\n",
    "    "
   ]
  },
  {
   "cell_type": "code",
   "execution_count": 88,
   "metadata": {},
   "outputs": [
    {
     "data": {
      "text/plain": [
       "((1, 3, 9),\n",
       " array([[['Car', '5.352314', '-0.1110721', '-0.014523416', '1.6159326',\n",
       "          '1.6501503', '3.976681', '0.10636669', '0.9908524'],\n",
       "         ['Car', '1.951403', '-17.081717', '-0.25819305', '1.5422895',\n",
       "          '1.6035722', '3.8776917', '0.22755282', '0.98643017'],\n",
       "         ['Car', '1.9491233', '-11.40714', '-0.4383364', '1.5856984',\n",
       "          '1.6210629', '3.830715', '0.21625924', '0.719831']]],\n",
       "       dtype='<U32'))"
      ]
     },
     "execution_count": 88,
     "metadata": {},
     "output_type": "execute_result"
    }
   ],
   "source": [
    "predicte_result = np.load(file_path)\n",
    "predicte_result.shape,predicte_result"
   ]
  },
  {
   "cell_type": "code",
   "execution_count": null,
   "metadata": {},
   "outputs": [],
   "source": []
  }
 ],
 "metadata": {
  "kernelspec": {
   "display_name": "py311_tor2_cu118",
   "language": "python",
   "name": "python3"
  },
  "language_info": {
   "codemirror_mode": {
    "name": "ipython",
    "version": 3
   },
   "file_extension": ".py",
   "mimetype": "text/x-python",
   "name": "python",
   "nbconvert_exporter": "python",
   "pygments_lexer": "ipython3",
   "version": "3.8.17"
  },
  "orig_nbformat": 4
 },
 "nbformat": 4,
 "nbformat_minor": 2
}
