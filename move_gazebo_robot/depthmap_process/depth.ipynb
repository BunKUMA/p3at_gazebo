{
 "cells": [
  {
   "cell_type": "code",
   "execution_count": 86,
   "metadata": {},
   "outputs": [],
   "source": [
    "import numpy as np\n",
    "import cv2\n",
    "from PIL import Image\n",
    "import matplotlib.pyplot as plt\n",
    "import open3d as o3d\n",
    "\n",
    "# 深度图的宽度和高度\n",
    "depth_width = 640\n",
    "depth_height = 480\n",
    "\n",
    "# 创建一个深度图（示例，实际应该根据你的深度数据来创建）\n",
    "depth_image = Image.open('image_93.png')\n",
    "depth_image = np.array(depth_image)\n",
    "\n",
    "\n",
    "\n",
    "# 相机内部参数\n",
    "fx = 392.323 # 水平焦距\n",
    "fy = 392.323 # 垂直焦距\n",
    "cx = 319.158 # 主点的x坐标\n",
    "cy = 240.853 # 主点的y坐标\n",
    "\n",
    "min_depth = 0.6\n",
    "max_depth = 10.0\n",
    "DEPTH_SCALE_M = 0.001\n",
    "nums = 3\n",
    "\n",
    "\n",
    "# 定义LiDAR扫描参数\n",
    "num_scan_points = 90  # 90度扫描，可以根据需要调整\n",
    "lines = 64  # 90度扫描，可以根据需要调整\n",
    "min_angle = -np.pi / 4  # 最小扫描角度\n",
    "max_angle = np.pi / 4  # 最大扫描角度\n",
    "# 初始化LiDAR点云数据\n",
    "lidar_points = []\n",
    "digess = num_scan_points / lines\n",
    "v_angle = [round(np.radians(i),nums) for i in np.arange(-45,18,digess)]\n",
    "# h_angle = [round(np.radians(i),nums) for i in np.arange(-45,45)]\n"
   ]
  },
  {
   "cell_type": "code",
   "execution_count": 87,
   "metadata": {},
   "outputs": [
    {
     "data": {
      "text/plain": [
       "18.43494882292201"
      ]
     },
     "execution_count": 87,
     "metadata": {},
     "output_type": "execute_result"
    }
   ],
   "source": [
    "np.degrees(np.arctan2(1,3))"
   ]
  },
  {
   "cell_type": "code",
   "execution_count": 88,
   "metadata": {},
   "outputs": [],
   "source": [
    "\n",
    "# 将深度图转换为点云\n",
    "\n",
    "for y in range(depth_image.shape[0]):\n",
    "    for x in range(depth_image.shape[1]):\n",
    "        # 获取深度值\n",
    "        depth = depth_image[y, x] * DEPTH_SCALE_M\n",
    "\n",
    "        # 计算对应的点的坐标（假设 Z 轴为深度，X 和 Y 轴为图像平面）\n",
    "        if depth > 0:\n",
    "            \n",
    "            point_x = (x - cx) * depth / fx\n",
    "            point_y = (y - cy) * depth / fy\n",
    "            point_z = depth\n",
    "            \n",
    "            distance = np.sqrt(point_x**2 + point_y**2 + point_z**2)\n",
    "            \n",
    "            # alpha = round(np.arctan2(point_x,distance), nums)\n",
    "            beta = round(np.arctan2(point_y,distance), nums)\n",
    "            # alpha in h_angle and \n",
    "            if not (beta in v_angle) :\n",
    "                continue\n",
    "\n",
    "            # 将点的坐标添加到点云列表中\n",
    "            lidar_points.append([point_x, point_y, point_z])\n",
    "\n",
    "# lidar_points 现在包含了模拟的LiDAR点云数据\n"
   ]
  },
  {
   "cell_type": "code",
   "execution_count": null,
   "metadata": {},
   "outputs": [],
   "source": [
    "\n",
    "# # 可选：添加噪声\n",
    "# lidar_points = np.array(lidar_points)  # 转换为NumPy数组以便处理\n",
    "# noise_stddev = 0.01  # 噪声标准差\n",
    "# noise = np.random.normal(0, noise_stddev, size=lidar_points.shape)\n",
    "# lidar_points += noise\n",
    "\n",
    "# 绕 Y 轴顺时针旋转 90 度\n",
    "angle_y = np.radians(90)  # 将角度转换为弧度\n",
    "rotation_y = np.array([[np.cos(angle_y), 0, np.sin(angle_y)],\n",
    "                    [0, 1, 0],\n",
    "                    [-np.sin(angle_y), 0, np.cos(angle_y)]])\n",
    "rotated_points = np.dot(lidar_points, rotation_y.T)\n",
    "# 绕 X 轴逆时针旋转 90 度\n",
    "angle_x = np.radians(-90)  # 将角度转换为弧度\n",
    "rotation_x = np.array([[1, 0, 0],\n",
    "                    [0, np.cos(angle_x), -np.sin(angle_x)],\n",
    "                    [0, np.sin(angle_x), np.cos(angle_x)]])\n",
    "rotated_points = np.dot(rotated_points, rotation_x.T)\n",
    "\n",
    "nan_mask = np.isnan(rotated_points).any(axis=1)\n",
    "lidar_points = rotated_points[~nan_mask]\n",
    "\n",
    "\n"
   ]
  },
  {
   "cell_type": "code",
   "execution_count": null,
   "metadata": {},
   "outputs": [],
   "source": [
    "\n",
    "\n",
    "pcd = o3d.geometry.PointCloud()\n",
    "pcd.points = o3d.utility.Vector3dVector(lidar_points)\n",
    "pcd.paint_uniform_color([1.0, 0.5, 0.0])  # 设置橙色\n",
    "\n",
    "# pcd2 = o3d.geometry.PointCloud()\n",
    "# pcd2.points = o3d.utility.Vector3dVector(unproce_point_cloud)\n",
    "# pcd2.paint_uniform_color([1.0, 0.0, 0.0])  # 设置红色\n",
    "\n",
    "lidar_point_cloud  = np.load('lidarpoint_93.npy')\n",
    "lidar_point_cloud[:,2] += 0.22\n",
    "pcd3 = o3d.geometry.PointCloud()\n",
    "pcd3.points = o3d.utility.Vector3dVector(lidar_point_cloud)\n",
    "pcd3.paint_uniform_color([0.0, 0.5, 0.3])  # 设置红色\n",
    "\n",
    "\n",
    "coord_frame = o3d.geometry.TriangleMesh.create_coordinate_frame(size=1.0, origin=[0, 0, 0])\n",
    "\n",
    "# 创建一个场景并将点云、包围框和坐标系添加到场景中\n",
    "scene = o3d.visualization.Visualizer()\n",
    "scene.create_window()\n",
    "scene.add_geometry(pcd)        # 添加点云\n",
    "# scene.add_geometry(pcd2)        # 添加点云\n",
    "# scene.add_geometry(pcd3)        # 添加点云\n",
    "scene.add_geometry(coord_frame)  # 添加坐标系\n",
    "\n",
    "\n",
    "# 设置视角\n",
    "view_control = scene.get_view_control()\n",
    "view_control.set_lookat([0, 0, 0])  # 设置视点\n",
    "view_control.set_up([1, 0, 0])     # 设置视角上方的方向\n",
    "\n",
    "# 显示场景\n",
    "scene.run()\n",
    "scene.destroy_window()"
   ]
  }
 ],
 "metadata": {
  "kernelspec": {
   "display_name": "study",
   "language": "python",
   "name": "python3"
  },
  "language_info": {
   "codemirror_mode": {
    "name": "ipython",
    "version": 3
   },
   "file_extension": ".py",
   "mimetype": "text/x-python",
   "name": "python",
   "nbconvert_exporter": "python",
   "pygments_lexer": "ipython3",
   "version": "3.7.13"
  }
 },
 "nbformat": 4,
 "nbformat_minor": 2
}
